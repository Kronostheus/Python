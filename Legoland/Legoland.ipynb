{
 "cells": [
  {
   "cell_type": "markdown",
   "metadata": {},
   "source": [
    "# Imports"
   ]
  },
  {
   "cell_type": "code",
   "execution_count": 1,
   "metadata": {},
   "outputs": [],
   "source": [
    "import pandas as pd\n",
    "import seaborn as sns\n",
    "import numpy as np\n",
    "import matplotlib.pyplot as plt\n",
    "\n",
    "from sklearn.linear_model import LinearRegression, Ridge\n",
    "from sklearn.neighbors import KNeighborsRegressor\n",
    "from sklearn.ensemble import AdaBoostRegressor"
   ]
  },
  {
   "cell_type": "markdown",
   "metadata": {},
   "source": [
    "# Loading Data"
   ]
  },
  {
   "cell_type": "markdown",
   "metadata": {},
   "source": [
    "## Loading themes.csv"
   ]
  },
  {
   "cell_type": "code",
   "execution_count": 2,
   "metadata": {},
   "outputs": [
    {
     "name": "stdout",
     "output_type": "stream",
     "text": [
      "(671, 3)\n"
     ]
    },
    {
     "data": {
      "text/html": [
       "<div>\n",
       "<style scoped>\n",
       "    .dataframe tbody tr th:only-of-type {\n",
       "        vertical-align: middle;\n",
       "    }\n",
       "\n",
       "    .dataframe tbody tr th {\n",
       "        vertical-align: top;\n",
       "    }\n",
       "\n",
       "    .dataframe thead th {\n",
       "        text-align: right;\n",
       "    }\n",
       "</style>\n",
       "<table border=\"1\" class=\"dataframe\">\n",
       "  <thead>\n",
       "    <tr style=\"text-align: right;\">\n",
       "      <th></th>\n",
       "      <th>id</th>\n",
       "      <th>name</th>\n",
       "      <th>parent_id</th>\n",
       "    </tr>\n",
       "  </thead>\n",
       "  <tbody>\n",
       "    <tr>\n",
       "      <th>0</th>\n",
       "      <td>1</td>\n",
       "      <td>Technic</td>\n",
       "      <td>NaN</td>\n",
       "    </tr>\n",
       "    <tr>\n",
       "      <th>1</th>\n",
       "      <td>2</td>\n",
       "      <td>Arctic Technic</td>\n",
       "      <td>1.0</td>\n",
       "    </tr>\n",
       "    <tr>\n",
       "      <th>2</th>\n",
       "      <td>3</td>\n",
       "      <td>Competition</td>\n",
       "      <td>1.0</td>\n",
       "    </tr>\n",
       "    <tr>\n",
       "      <th>3</th>\n",
       "      <td>4</td>\n",
       "      <td>Expert Builder</td>\n",
       "      <td>1.0</td>\n",
       "    </tr>\n",
       "    <tr>\n",
       "      <th>4</th>\n",
       "      <td>5</td>\n",
       "      <td>Model</td>\n",
       "      <td>1.0</td>\n",
       "    </tr>\n",
       "  </tbody>\n",
       "</table>\n",
       "</div>"
      ],
      "text/plain": [
       "   id            name  parent_id\n",
       "0   1         Technic        NaN\n",
       "1   2  Arctic Technic        1.0\n",
       "2   3     Competition        1.0\n",
       "3   4  Expert Builder        1.0\n",
       "4   5           Model        1.0"
      ]
     },
     "execution_count": 2,
     "metadata": {},
     "output_type": "execute_result"
    }
   ],
   "source": [
    "themes_raw = pd.read_csv(\"themes.csv\")\n",
    "print(themes_raw.shape)\n",
    "themes_raw.head()"
   ]
  },
  {
   "cell_type": "code",
   "execution_count": 3,
   "metadata": {},
   "outputs": [
    {
     "data": {
      "text/html": [
       "<div>\n",
       "<style scoped>\n",
       "    .dataframe tbody tr th:only-of-type {\n",
       "        vertical-align: middle;\n",
       "    }\n",
       "\n",
       "    .dataframe tbody tr th {\n",
       "        vertical-align: top;\n",
       "    }\n",
       "\n",
       "    .dataframe thead th {\n",
       "        text-align: right;\n",
       "    }\n",
       "</style>\n",
       "<table border=\"1\" class=\"dataframe\">\n",
       "  <thead>\n",
       "    <tr style=\"text-align: right;\">\n",
       "      <th></th>\n",
       "      <th>id</th>\n",
       "      <th>parent_id</th>\n",
       "    </tr>\n",
       "  </thead>\n",
       "  <tbody>\n",
       "    <tr>\n",
       "      <th>count</th>\n",
       "      <td>671.000000</td>\n",
       "      <td>550.000000</td>\n",
       "    </tr>\n",
       "    <tr>\n",
       "      <th>mean</th>\n",
       "      <td>339.339791</td>\n",
       "      <td>293.381818</td>\n",
       "    </tr>\n",
       "    <tr>\n",
       "      <th>std</th>\n",
       "      <td>196.862262</td>\n",
       "      <td>184.974925</td>\n",
       "    </tr>\n",
       "    <tr>\n",
       "      <th>min</th>\n",
       "      <td>1.000000</td>\n",
       "      <td>1.000000</td>\n",
       "    </tr>\n",
       "    <tr>\n",
       "      <th>25%</th>\n",
       "      <td>168.500000</td>\n",
       "      <td>126.000000</td>\n",
       "    </tr>\n",
       "    <tr>\n",
       "      <th>50%</th>\n",
       "      <td>337.000000</td>\n",
       "      <td>290.000000</td>\n",
       "    </tr>\n",
       "    <tr>\n",
       "      <th>75%</th>\n",
       "      <td>510.500000</td>\n",
       "      <td>482.000000</td>\n",
       "    </tr>\n",
       "    <tr>\n",
       "      <th>max</th>\n",
       "      <td>680.000000</td>\n",
       "      <td>632.000000</td>\n",
       "    </tr>\n",
       "  </tbody>\n",
       "</table>\n",
       "</div>"
      ],
      "text/plain": [
       "               id   parent_id\n",
       "count  671.000000  550.000000\n",
       "mean   339.339791  293.381818\n",
       "std    196.862262  184.974925\n",
       "min      1.000000    1.000000\n",
       "25%    168.500000  126.000000\n",
       "50%    337.000000  290.000000\n",
       "75%    510.500000  482.000000\n",
       "max    680.000000  632.000000"
      ]
     },
     "execution_count": 3,
     "metadata": {},
     "output_type": "execute_result"
    }
   ],
   "source": [
    "themes_raw.describe()"
   ]
  },
  {
   "cell_type": "markdown",
   "metadata": {},
   "source": [
    "## Loading sets.csv"
   ]
  },
  {
   "cell_type": "code",
   "execution_count": 4,
   "metadata": {
    "scrolled": true
   },
   "outputs": [
    {
     "name": "stdout",
     "output_type": "stream",
     "text": [
      "(14787, 5)\n"
     ]
    },
    {
     "data": {
      "text/html": [
       "<div>\n",
       "<style scoped>\n",
       "    .dataframe tbody tr th:only-of-type {\n",
       "        vertical-align: middle;\n",
       "    }\n",
       "\n",
       "    .dataframe tbody tr th {\n",
       "        vertical-align: top;\n",
       "    }\n",
       "\n",
       "    .dataframe thead th {\n",
       "        text-align: right;\n",
       "    }\n",
       "</style>\n",
       "<table border=\"1\" class=\"dataframe\">\n",
       "  <thead>\n",
       "    <tr style=\"text-align: right;\">\n",
       "      <th></th>\n",
       "      <th>set_num</th>\n",
       "      <th>name</th>\n",
       "      <th>year</th>\n",
       "      <th>theme_id</th>\n",
       "      <th>num_parts</th>\n",
       "    </tr>\n",
       "  </thead>\n",
       "  <tbody>\n",
       "    <tr>\n",
       "      <th>0</th>\n",
       "      <td>001-1</td>\n",
       "      <td>Gears</td>\n",
       "      <td>1965</td>\n",
       "      <td>1</td>\n",
       "      <td>43</td>\n",
       "    </tr>\n",
       "    <tr>\n",
       "      <th>1</th>\n",
       "      <td>0011-2</td>\n",
       "      <td>Town Mini-Figures</td>\n",
       "      <td>1978</td>\n",
       "      <td>84</td>\n",
       "      <td>12</td>\n",
       "    </tr>\n",
       "    <tr>\n",
       "      <th>2</th>\n",
       "      <td>0011-3</td>\n",
       "      <td>Castle 2 for 1 Bonus Offer</td>\n",
       "      <td>1987</td>\n",
       "      <td>199</td>\n",
       "      <td>2</td>\n",
       "    </tr>\n",
       "    <tr>\n",
       "      <th>3</th>\n",
       "      <td>0012-1</td>\n",
       "      <td>Space Mini-Figures</td>\n",
       "      <td>1979</td>\n",
       "      <td>143</td>\n",
       "      <td>12</td>\n",
       "    </tr>\n",
       "    <tr>\n",
       "      <th>4</th>\n",
       "      <td>0013-1</td>\n",
       "      <td>Space Mini-Figures</td>\n",
       "      <td>1979</td>\n",
       "      <td>143</td>\n",
       "      <td>12</td>\n",
       "    </tr>\n",
       "  </tbody>\n",
       "</table>\n",
       "</div>"
      ],
      "text/plain": [
       "  set_num                        name  year  theme_id  num_parts\n",
       "0   001-1                       Gears  1965         1         43\n",
       "1  0011-2           Town Mini-Figures  1978        84         12\n",
       "2  0011-3  Castle 2 for 1 Bonus Offer  1987       199          2\n",
       "3  0012-1          Space Mini-Figures  1979       143         12\n",
       "4  0013-1          Space Mini-Figures  1979       143         12"
      ]
     },
     "execution_count": 4,
     "metadata": {},
     "output_type": "execute_result"
    }
   ],
   "source": [
    "sets_raw = pd.read_csv(\"sets.csv\")\n",
    "print(sets_raw.shape)\n",
    "sets_raw.head()"
   ]
  },
  {
   "cell_type": "code",
   "execution_count": 5,
   "metadata": {},
   "outputs": [
    {
     "data": {
      "text/html": [
       "<div>\n",
       "<style scoped>\n",
       "    .dataframe tbody tr th:only-of-type {\n",
       "        vertical-align: middle;\n",
       "    }\n",
       "\n",
       "    .dataframe tbody tr th {\n",
       "        vertical-align: top;\n",
       "    }\n",
       "\n",
       "    .dataframe thead th {\n",
       "        text-align: right;\n",
       "    }\n",
       "</style>\n",
       "<table border=\"1\" class=\"dataframe\">\n",
       "  <thead>\n",
       "    <tr style=\"text-align: right;\">\n",
       "      <th></th>\n",
       "      <th>year</th>\n",
       "      <th>theme_id</th>\n",
       "      <th>num_parts</th>\n",
       "    </tr>\n",
       "  </thead>\n",
       "  <tbody>\n",
       "    <tr>\n",
       "      <th>count</th>\n",
       "      <td>14787.000000</td>\n",
       "      <td>14787.000000</td>\n",
       "      <td>14787.000000</td>\n",
       "    </tr>\n",
       "    <tr>\n",
       "      <th>mean</th>\n",
       "      <td>2003.527017</td>\n",
       "      <td>366.773450</td>\n",
       "      <td>155.142761</td>\n",
       "    </tr>\n",
       "    <tr>\n",
       "      <th>std</th>\n",
       "      <td>13.730306</td>\n",
       "      <td>193.061026</td>\n",
       "      <td>338.933120</td>\n",
       "    </tr>\n",
       "    <tr>\n",
       "      <th>min</th>\n",
       "      <td>1949.000000</td>\n",
       "      <td>1.000000</td>\n",
       "      <td>-1.000000</td>\n",
       "    </tr>\n",
       "    <tr>\n",
       "      <th>25%</th>\n",
       "      <td>1998.000000</td>\n",
       "      <td>204.000000</td>\n",
       "      <td>9.000000</td>\n",
       "    </tr>\n",
       "    <tr>\n",
       "      <th>50%</th>\n",
       "      <td>2007.000000</td>\n",
       "      <td>412.000000</td>\n",
       "      <td>42.000000</td>\n",
       "    </tr>\n",
       "    <tr>\n",
       "      <th>75%</th>\n",
       "      <td>2014.000000</td>\n",
       "      <td>505.000000</td>\n",
       "      <td>152.000000</td>\n",
       "    </tr>\n",
       "    <tr>\n",
       "      <th>max</th>\n",
       "      <td>2019.000000</td>\n",
       "      <td>680.000000</td>\n",
       "      <td>7541.000000</td>\n",
       "    </tr>\n",
       "  </tbody>\n",
       "</table>\n",
       "</div>"
      ],
      "text/plain": [
       "               year      theme_id     num_parts\n",
       "count  14787.000000  14787.000000  14787.000000\n",
       "mean    2003.527017    366.773450    155.142761\n",
       "std       13.730306    193.061026    338.933120\n",
       "min     1949.000000      1.000000     -1.000000\n",
       "25%     1998.000000    204.000000      9.000000\n",
       "50%     2007.000000    412.000000     42.000000\n",
       "75%     2014.000000    505.000000    152.000000\n",
       "max     2019.000000    680.000000   7541.000000"
      ]
     },
     "execution_count": 5,
     "metadata": {},
     "output_type": "execute_result"
    }
   ],
   "source": [
    "sets_raw.describe()"
   ]
  },
  {
   "cell_type": "markdown",
   "metadata": {},
   "source": [
    "# Cleaning"
   ]
  },
  {
   "cell_type": "markdown",
   "metadata": {},
   "source": [
    "## Duplicate Theme Names"
   ]
  },
  {
   "cell_type": "markdown",
   "metadata": {},
   "source": [
    "Certain themes have identical name, although from different parent themes. This can cause different themes to be counted as a single one, which would lead to incorrect data visualizations.\n",
    "\n",
    "Here, I simply change the name so that it accounts for parent_id: (parent_name) - (theme_name)"
   ]
  },
  {
   "cell_type": "code",
   "execution_count": 6,
   "metadata": {},
   "outputs": [],
   "source": [
    "duplicate_lst = themes_raw[themes_raw[\"name\"].duplicated()][\"name\"].unique()\n",
    "\n",
    "def update_dups(row):\n",
    "    # Check if duplicate name and not a root theme\n",
    "    if row[\"name\"] in duplicate_lst and not np.isnan(row[\"parent_id\"]):\n",
    "        parent_name = themes_raw[themes_raw[\"id\"] == row[\"parent_id\"]][\"name\"].values\n",
    "        row[\"name\"] = \"\".join(parent_name) +\" - \" + row[\"name\"]\n",
    "    return row\n",
    "\n",
    "themes_raw = themes_raw.apply(update_dups, axis=1)"
   ]
  },
  {
   "cell_type": "markdown",
   "metadata": {},
   "source": [
    "# Plotting"
   ]
  },
  {
   "cell_type": "markdown",
   "metadata": {},
   "source": [
    "## Plotting Years "
   ]
  },
  {
   "cell_type": "markdown",
   "metadata": {},
   "source": [
    "### Popular Years"
   ]
  },
  {
   "cell_type": "code",
   "execution_count": 7,
   "metadata": {},
   "outputs": [
    {
     "data": {
      "text/plain": [
       "count    14787.000000\n",
       "mean      2003.527017\n",
       "std         13.730306\n",
       "min       1949.000000\n",
       "25%       1998.000000\n",
       "50%       2007.000000\n",
       "75%       2014.000000\n",
       "max       2019.000000\n",
       "Name: year, dtype: float64"
      ]
     },
     "execution_count": 7,
     "metadata": {},
     "output_type": "execute_result"
    }
   ],
   "source": [
    "year_counts = sets_raw[\"year\"].value_counts()\n",
    "sets_raw[\"year\"].describe()"
   ]
  },
  {
   "cell_type": "code",
   "execution_count": 8,
   "metadata": {
    "scrolled": true
   },
   "outputs": [
    {
     "data": {
      "image/png": "[encoded data removed]",
      "text/plain": [
       "<Figure size 576x288 with 1 Axes>"
      ]
     },
     "metadata": {
      "needs_background": "light"
     },
     "output_type": "display_data"
    }
   ],
   "source": [
    "plt.figure(figsize=(8,4))\n",
    "\n",
    "top_15_years = year_counts[:15,]\n",
    "\n",
    "sns.barplot(top_15_years.index, top_15_years.values)\n",
    "\n",
    "plt.title('Top 15 years with more sets')\n",
    "plt.xlabel('Year')\n",
    "plt.ylabel('Number of Sets')\n",
    "plt.show()"
   ]
  },
  {
   "cell_type": "markdown",
   "metadata": {},
   "source": [
    "Highest quantity of sets is dominated by the 21st century. \n",
    "\n",
    "There is a gap between 2004 and 2009, which can also be seen in the next plot."
   ]
  },
  {
   "cell_type": "markdown",
   "metadata": {},
   "source": [
    "### Overall Years"
   ]
  },
  {
   "cell_type": "code",
   "execution_count": 9,
   "metadata": {
    "scrolled": false
   },
   "outputs": [
    {
     "data": {
      "image/png": "[encoded data removed]",
      "text/plain": [
       "<Figure size 864x432 with 1 Axes>"
      ]
     },
     "metadata": {
      "needs_background": "light"
     },
     "output_type": "display_data"
    }
   ],
   "source": [
    "plt.figure(figsize=(12,6))\n",
    "\n",
    "sns.lineplot(year_counts.index, year_counts.values)\n",
    "\n",
    "plt.title('Overall Years by Number of Sets')\n",
    "plt.xlabel('Year')\n",
    "plt.ylabel('Number of Sets')\n",
    "plt.show()"
   ]
  },
  {
   "cell_type": "markdown",
   "metadata": {},
   "source": [
    "Increasing trend from the late 90s. \n",
    "\n",
    "As stated before, the dip between 2004 and 2009 is evident.\n",
    "\n",
    "The drop at the end is 2019, which is still midway."
   ]
  },
  {
   "cell_type": "markdown",
   "metadata": {},
   "source": [
    "## Plotting Themes"
   ]
  },
  {
   "cell_type": "markdown",
   "metadata": {},
   "source": [
    "Analysing the differences between Parent themes and Root themes (which I engineer from available data \n",
    "                                                                 after having carefully examined the dataframes)"
   ]
  },
  {
   "cell_type": "markdown",
   "metadata": {},
   "source": [
    "### Parent Themes"
   ]
  },
  {
   "cell_type": "markdown",
   "metadata": {},
   "source": [
    "Parent theme: Theme that has other themes directly associated to it. May have a parent theme of its own.\n",
    "\n",
    "    Example: id name    parent_id\n",
    "             1  Technic \n",
    "                    ...\n",
    "             5  Model       1\n",
    "             6  Airport     5\n",
    "\n",
    "    Technic is a parent (root) of Model, which is a parent (non-root) of Airport."
   ]
  },
  {
   "cell_type": "code",
   "execution_count": 10,
   "metadata": {
    "scrolled": false
   },
   "outputs": [
    {
     "data": {
      "image/png": "[encoded data removed]",
      "text/plain": [
       "<Figure size 576x432 with 1 Axes>"
      ]
     },
     "metadata": {
      "needs_background": "light"
     },
     "output_type": "display_data"
    }
   ],
   "source": [
    "plt.figure(figsize=(8,6))\n",
    "\n",
    "# Get top 15 parents\n",
    "top_15_parents = themes_raw[\"parent_id\"].value_counts()[:15,]\n",
    "\n",
    "# Associate parent_id with the name of the parent theme\n",
    "top_15_names = [themes_raw[themes_raw[\"id\"] == idx][\"name\"].values[0] for idx in top_15_parents.index]\n",
    "\n",
    "sns.barplot(top_15_parents.values, top_15_names, orient=\"h\")\n",
    "\n",
    "plt.title('Top 15 temes with most sub-themes')\n",
    "plt.xlabel('Number of Children')\n",
    "plt.ylabel('Parent Theme Name')\n",
    "plt.show()"
   ]
  },
  {
   "cell_type": "markdown",
   "metadata": {},
   "source": [
    "### Root Themes"
   ]
  },
  {
   "cell_type": "markdown",
   "metadata": {},
   "source": [
    "Root theme: Theme that has no parent_id"
   ]
  },
  {
   "cell_type": "code",
   "execution_count": 11,
   "metadata": {},
   "outputs": [],
   "source": [
    "# Fill root theme's parent_id as 0\n",
    "themes_raw[\"parent_id\"] = themes_raw[\"parent_id\"].fillna(0).astype(int)\n",
    "\n",
    "parent_dict = themes_raw.set_index('id').to_dict()['parent_id']\n",
    "\n",
    "# Returns root theme\n",
    "def get_root(x):\n",
    "    return x if parent_dict[x] == 0 else get_root(parent_dict[x])\n",
    "\n",
    "# Merge root theme column\n",
    "themes = themes_raw.merge(pd.DataFrame(pd.Series({x: get_root(x) for x in parent_dict.keys()}), columns=('root_id', )),\n",
    "                left_on='id',\n",
    "                right_index=True)"
   ]
  },
  {
   "cell_type": "code",
   "execution_count": 12,
   "metadata": {},
   "outputs": [
    {
     "data": {
      "image/png": "[encoded data removed]",
      "text/plain": [
       "<Figure size 576x432 with 1 Axes>"
      ]
     },
     "metadata": {
      "needs_background": "light"
     },
     "output_type": "display_data"
    }
   ],
   "source": [
    "plt.figure(figsize=(8,6))\n",
    "\n",
    "# Top 15 root themes\n",
    "top_15_roots = themes[\"root_id\"].value_counts()[:15,]\n",
    "\n",
    "# Associate root_id with the name of the root theme\n",
    "top_15_names = [themes[themes[\"id\"] == idx][\"name\"].values[0] for idx in top_15_roots.index]\n",
    "sns.barplot(top_15_roots.values, top_15_names, orient=\"h\")\n",
    "\n",
    "plt.title('Top 15 root themes')\n",
    "plt.xlabel('Number of Children')\n",
    "plt.ylabel('Root Theme')\n",
    "plt.show()"
   ]
  },
  {
   "cell_type": "markdown",
   "metadata": {},
   "source": [
    "### Set Themes"
   ]
  },
  {
   "cell_type": "code",
   "execution_count": 13,
   "metadata": {},
   "outputs": [
    {
     "data": {
      "text/plain": [
       "count    14787.000000\n",
       "mean       366.773450\n",
       "std        193.061026\n",
       "min          1.000000\n",
       "25%        204.000000\n",
       "50%        412.000000\n",
       "75%        505.000000\n",
       "max        680.000000\n",
       "Name: theme_id, dtype: float64"
      ]
     },
     "execution_count": 13,
     "metadata": {},
     "output_type": "execute_result"
    }
   ],
   "source": [
    "set_theme_counts = sets_raw[\"theme_id\"].value_counts()\n",
    "sets_raw[\"theme_id\"].describe()"
   ]
  },
  {
   "cell_type": "code",
   "execution_count": 14,
   "metadata": {
    "scrolled": false
   },
   "outputs": [
    {
     "data": {
      "image/png": "[encoded data removed]",
      "text/plain": [
       "<Figure size 576x432 with 1 Axes>"
      ]
     },
     "metadata": {
      "needs_background": "light"
     },
     "output_type": "display_data"
    }
   ],
   "source": [
    "plt.figure(figsize=(8,6))\n",
    "\n",
    "# Top 15 themes\n",
    "top_15_themes = set_theme_counts[:15,]\n",
    "\n",
    "# Associate root_id with the name of the root theme\n",
    "theme_names = [themes_raw[themes_raw[\"id\"] == idx][\"name\"].values[0] for idx in top_15_themes.index]\n",
    "sns.barplot(top_15_themes.values, theme_names, orient=\"h\")\n",
    "\n",
    "plt.title('Top 15 Most Common Themes')\n",
    "plt.xlabel('Number of Sets')\n",
    "plt.ylabel('Theme')\n",
    "plt.show()"
   ]
  },
  {
   "cell_type": "markdown",
   "metadata": {},
   "source": [
    "### Distribution of Most Common Themes by Year"
   ]
  },
  {
   "cell_type": "code",
   "execution_count": 15,
   "metadata": {},
   "outputs": [],
   "source": [
    "names = dict(zip(top_15_themes.index, theme_names))\n",
    "\n",
    "def match_name(theme_id):\n",
    "    return names[theme_id]\n",
    "\n",
    "sets_by_year = sets_raw.groupby([\"theme_id\", \"year\"], as_index=False)[\"set_num\"].count()\n",
    "top15_sets_by_year = sets_by_year[sets_by_year[\"theme_id\"].isin(top_15_themes.index)]\n",
    "\n",
    "# Add theme name for better plot readability\n",
    "top15_sets_by_year = top15_sets_by_year.merge(\n",
    "    pd.DataFrame(\n",
    "        pd.Series({x: match_name(x) for x in top15_sets_by_year[\"theme_id\"]}),\n",
    "        columns=('theme_name', )\n",
    "    ),\n",
    "    left_on='theme_id',\n",
    "    right_index=True)"
   ]
  },
  {
   "cell_type": "code",
   "execution_count": 16,
   "metadata": {},
   "outputs": [
    {
     "data": {
      "image/png": "[encoded data removed]",
      "text/plain": [
       "<Figure size 1080x648 with 15 Axes>"
      ]
     },
     "metadata": {
      "needs_background": "light"
     },
     "output_type": "display_data"
    }
   ],
   "source": [
    "g = sns.FacetGrid(top15_sets_by_year, col=\"theme_name\", col_wrap=5, height=3)\n",
    "g = g.map(plt.scatter, \"year\", \"set_num\", color=\"m\", edgecolor=\"w\")\n",
    "g.set_ylabels(\"Number of Sets\")\n",
    "plt.show()"
   ]
  },
  {
   "cell_type": "markdown",
   "metadata": {},
   "source": [
    "Here, certain trends can be seen. Examples include the increase popularity in Star Wars and Books, the drop of Service Packs (common in the eighties and nineties, but not so much now) and the consistency of Duplo theme throughout the years."
   ]
  },
  {
   "cell_type": "markdown",
   "metadata": {},
   "source": [
    "### Quantity of Parts by Year"
   ]
  },
  {
   "cell_type": "code",
   "execution_count": 17,
   "metadata": {},
   "outputs": [
    {
     "data": {
      "image/png": "[encoded data removed]",
      "text/plain": [
       "<Figure size 864x432 with 1 Axes>"
      ]
     },
     "metadata": {
      "needs_background": "light"
     },
     "output_type": "display_data"
    }
   ],
   "source": [
    "qnt_parts = {}\n",
    "\n",
    "for year in sets_raw.year.unique():\n",
    "    year_df = sets_raw[sets_raw[\"year\"] == year]\n",
    "    qnt_parts[year] = year_df[\"num_parts\"].sum()\n",
    "\n",
    "x = list(qnt_parts.keys())\n",
    "y = list(qnt_parts.values())\n",
    "\n",
    "plt.figure(figsize=(12,6))\n",
    "sns.barplot(x, y)\n",
    "plt.xticks(rotation=90)\n",
    "plt.show()"
   ]
  },
  {
   "cell_type": "markdown",
   "metadata": {},
   "source": [
    "This trend is somewhat expected since there is an increase of sets that can be seen in earlier plots. Interestingly enough, we do not see the dip between 2004 and 2009 in parts like we saw in the quantity of sets."
   ]
  },
  {
   "cell_type": "markdown",
   "metadata": {},
   "source": [
    "# Predicting 2018"
   ]
  },
  {
   "cell_type": "markdown",
   "metadata": {},
   "source": [
    "## Dropping Features"
   ]
  },
  {
   "cell_type": "code",
   "execution_count": 18,
   "metadata": {},
   "outputs": [],
   "source": [
    "themes_merge = themes.drop(\"name\", axis=1)\n",
    "sets_merge = sets_raw.drop([\"name\", \"set_num\"], axis=1)"
   ]
  },
  {
   "cell_type": "markdown",
   "metadata": {},
   "source": [
    "## Merge Dataframes"
   ]
  },
  {
   "cell_type": "markdown",
   "metadata": {},
   "source": [
    "Merging parent_id and root_id features into information about sets."
   ]
  },
  {
   "cell_type": "code",
   "execution_count": 19,
   "metadata": {},
   "outputs": [
    {
     "data": {
      "text/html": [
       "<div>\n",
       "<style scoped>\n",
       "    .dataframe tbody tr th:only-of-type {\n",
       "        vertical-align: middle;\n",
       "    }\n",
       "\n",
       "    .dataframe tbody tr th {\n",
       "        vertical-align: top;\n",
       "    }\n",
       "\n",
       "    .dataframe thead th {\n",
       "        text-align: right;\n",
       "    }\n",
       "</style>\n",
       "<table border=\"1\" class=\"dataframe\">\n",
       "  <thead>\n",
       "    <tr style=\"text-align: right;\">\n",
       "      <th></th>\n",
       "      <th>year</th>\n",
       "      <th>theme_id</th>\n",
       "      <th>num_parts</th>\n",
       "      <th>parent_id</th>\n",
       "      <th>root_id</th>\n",
       "    </tr>\n",
       "  </thead>\n",
       "  <tbody>\n",
       "    <tr>\n",
       "      <th>0</th>\n",
       "      <td>1965</td>\n",
       "      <td>1</td>\n",
       "      <td>43</td>\n",
       "      <td>0</td>\n",
       "      <td>1</td>\n",
       "    </tr>\n",
       "    <tr>\n",
       "      <th>1</th>\n",
       "      <td>1965</td>\n",
       "      <td>1</td>\n",
       "      <td>3</td>\n",
       "      <td>0</td>\n",
       "      <td>1</td>\n",
       "    </tr>\n",
       "    <tr>\n",
       "      <th>2</th>\n",
       "      <td>1985</td>\n",
       "      <td>1</td>\n",
       "      <td>191</td>\n",
       "      <td>0</td>\n",
       "      <td>1</td>\n",
       "    </tr>\n",
       "    <tr>\n",
       "      <th>3</th>\n",
       "      <td>1985</td>\n",
       "      <td>1</td>\n",
       "      <td>120</td>\n",
       "      <td>0</td>\n",
       "      <td>1</td>\n",
       "    </tr>\n",
       "    <tr>\n",
       "      <th>4</th>\n",
       "      <td>1986</td>\n",
       "      <td>1</td>\n",
       "      <td>39</td>\n",
       "      <td>0</td>\n",
       "      <td>1</td>\n",
       "    </tr>\n",
       "  </tbody>\n",
       "</table>\n",
       "</div>"
      ],
      "text/plain": [
       "   year  theme_id  num_parts  parent_id  root_id\n",
       "0  1965         1         43          0        1\n",
       "1  1965         1          3          0        1\n",
       "2  1985         1        191          0        1\n",
       "3  1985         1        120          0        1\n",
       "4  1986         1         39          0        1"
      ]
     },
     "execution_count": 19,
     "metadata": {},
     "output_type": "execute_result"
    }
   ],
   "source": [
    "# Merge on themes_id == id \n",
    "merged = sets_merge.merge(themes_merge, left_on=\"theme_id\", right_on=\"id\").drop(\"id\", axis=1)\n",
    "merged.head()"
   ]
  },
  {
   "cell_type": "markdown",
   "metadata": {},
   "source": [
    "## One Hot Encoding"
   ]
  },
  {
   "cell_type": "code",
   "execution_count": 20,
   "metadata": {},
   "outputs": [
    {
     "data": {
      "text/html": [
       "<div>\n",
       "<style scoped>\n",
       "    .dataframe tbody tr th:only-of-type {\n",
       "        vertical-align: middle;\n",
       "    }\n",
       "\n",
       "    .dataframe tbody tr th {\n",
       "        vertical-align: top;\n",
       "    }\n",
       "\n",
       "    .dataframe thead th {\n",
       "        text-align: right;\n",
       "    }\n",
       "</style>\n",
       "<table border=\"1\" class=\"dataframe\">\n",
       "  <thead>\n",
       "    <tr style=\"text-align: right;\">\n",
       "      <th></th>\n",
       "      <th>year</th>\n",
       "      <th>num_parts</th>\n",
       "      <th>id_1</th>\n",
       "      <th>id_2</th>\n",
       "      <th>id_3</th>\n",
       "      <th>id_4</th>\n",
       "      <th>id_5</th>\n",
       "      <th>id_6</th>\n",
       "      <th>id_7</th>\n",
       "      <th>id_8</th>\n",
       "      <th>...</th>\n",
       "      <th>root_621</th>\n",
       "      <th>root_625</th>\n",
       "      <th>root_646</th>\n",
       "      <th>root_654</th>\n",
       "      <th>root_668</th>\n",
       "      <th>root_669</th>\n",
       "      <th>root_671</th>\n",
       "      <th>root_676</th>\n",
       "      <th>root_680</th>\n",
       "      <th>set_qnt</th>\n",
       "    </tr>\n",
       "  </thead>\n",
       "  <tbody>\n",
       "    <tr>\n",
       "      <th>63</th>\n",
       "      <td>2014</td>\n",
       "      <td>121733</td>\n",
       "      <td>8.0</td>\n",
       "      <td>0.0</td>\n",
       "      <td>0.0</td>\n",
       "      <td>0.0</td>\n",
       "      <td>0.0</td>\n",
       "      <td>1.0</td>\n",
       "      <td>2.0</td>\n",
       "      <td>0.0</td>\n",
       "      <td>...</td>\n",
       "      <td>0.0</td>\n",
       "      <td>0.0</td>\n",
       "      <td>0.0</td>\n",
       "      <td>0.0</td>\n",
       "      <td>0.0</td>\n",
       "      <td>0.0</td>\n",
       "      <td>0.0</td>\n",
       "      <td>0.0</td>\n",
       "      <td>0.0</td>\n",
       "      <td>749</td>\n",
       "    </tr>\n",
       "    <tr>\n",
       "      <th>64</th>\n",
       "      <td>2015</td>\n",
       "      <td>137156</td>\n",
       "      <td>2.0</td>\n",
       "      <td>0.0</td>\n",
       "      <td>0.0</td>\n",
       "      <td>0.0</td>\n",
       "      <td>0.0</td>\n",
       "      <td>0.0</td>\n",
       "      <td>2.0</td>\n",
       "      <td>0.0</td>\n",
       "      <td>...</td>\n",
       "      <td>11.0</td>\n",
       "      <td>0.0</td>\n",
       "      <td>0.0</td>\n",
       "      <td>0.0</td>\n",
       "      <td>0.0</td>\n",
       "      <td>0.0</td>\n",
       "      <td>0.0</td>\n",
       "      <td>0.0</td>\n",
       "      <td>0.0</td>\n",
       "      <td>737</td>\n",
       "    </tr>\n",
       "    <tr>\n",
       "      <th>65</th>\n",
       "      <td>2016</td>\n",
       "      <td>156647</td>\n",
       "      <td>10.0</td>\n",
       "      <td>0.0</td>\n",
       "      <td>0.0</td>\n",
       "      <td>0.0</td>\n",
       "      <td>0.0</td>\n",
       "      <td>1.0</td>\n",
       "      <td>1.0</td>\n",
       "      <td>0.0</td>\n",
       "      <td>...</td>\n",
       "      <td>3.0</td>\n",
       "      <td>0.0</td>\n",
       "      <td>0.0</td>\n",
       "      <td>0.0</td>\n",
       "      <td>0.0</td>\n",
       "      <td>0.0</td>\n",
       "      <td>0.0</td>\n",
       "      <td>0.0</td>\n",
       "      <td>0.0</td>\n",
       "      <td>709</td>\n",
       "    </tr>\n",
       "    <tr>\n",
       "      <th>66</th>\n",
       "      <td>2017</td>\n",
       "      <td>169933</td>\n",
       "      <td>12.0</td>\n",
       "      <td>0.0</td>\n",
       "      <td>0.0</td>\n",
       "      <td>0.0</td>\n",
       "      <td>0.0</td>\n",
       "      <td>1.0</td>\n",
       "      <td>0.0</td>\n",
       "      <td>0.0</td>\n",
       "      <td>...</td>\n",
       "      <td>7.0</td>\n",
       "      <td>0.0</td>\n",
       "      <td>0.0</td>\n",
       "      <td>0.0</td>\n",
       "      <td>0.0</td>\n",
       "      <td>0.0</td>\n",
       "      <td>0.0</td>\n",
       "      <td>0.0</td>\n",
       "      <td>0.0</td>\n",
       "      <td>739</td>\n",
       "    </tr>\n",
       "    <tr>\n",
       "      <th>67</th>\n",
       "      <td>2018</td>\n",
       "      <td>168397</td>\n",
       "      <td>1.0</td>\n",
       "      <td>0.0</td>\n",
       "      <td>0.0</td>\n",
       "      <td>0.0</td>\n",
       "      <td>5.0</td>\n",
       "      <td>0.0</td>\n",
       "      <td>2.0</td>\n",
       "      <td>0.0</td>\n",
       "      <td>...</td>\n",
       "      <td>12.0</td>\n",
       "      <td>25.0</td>\n",
       "      <td>8.0</td>\n",
       "      <td>2.0</td>\n",
       "      <td>0.0</td>\n",
       "      <td>1.0</td>\n",
       "      <td>0.0</td>\n",
       "      <td>0.0</td>\n",
       "      <td>0.0</td>\n",
       "      <td>745</td>\n",
       "    </tr>\n",
       "  </tbody>\n",
       "</table>\n",
       "<p>5 rows × 831 columns</p>\n",
       "</div>"
      ],
      "text/plain": [
       "    year  num_parts  id_1  id_2  id_3  id_4  id_5  id_6  id_7  id_8  ...  \\\n",
       "63  2014     121733   8.0   0.0   0.0   0.0   0.0   1.0   2.0   0.0  ...   \n",
       "64  2015     137156   2.0   0.0   0.0   0.0   0.0   0.0   2.0   0.0  ...   \n",
       "65  2016     156647  10.0   0.0   0.0   0.0   0.0   1.0   1.0   0.0  ...   \n",
       "66  2017     169933  12.0   0.0   0.0   0.0   0.0   1.0   0.0   0.0  ...   \n",
       "67  2018     168397   1.0   0.0   0.0   0.0   5.0   0.0   2.0   0.0  ...   \n",
       "\n",
       "    root_621  root_625  root_646  root_654  root_668  root_669  root_671  \\\n",
       "63       0.0       0.0       0.0       0.0       0.0       0.0       0.0   \n",
       "64      11.0       0.0       0.0       0.0       0.0       0.0       0.0   \n",
       "65       3.0       0.0       0.0       0.0       0.0       0.0       0.0   \n",
       "66       7.0       0.0       0.0       0.0       0.0       0.0       0.0   \n",
       "67      12.0      25.0       8.0       2.0       0.0       1.0       0.0   \n",
       "\n",
       "    root_676  root_680  set_qnt  \n",
       "63       0.0       0.0      749  \n",
       "64       0.0       0.0      737  \n",
       "65       0.0       0.0      709  \n",
       "66       0.0       0.0      739  \n",
       "67       0.0       0.0      745  \n",
       "\n",
       "[5 rows x 831 columns]"
      ]
     },
     "execution_count": 20,
     "metadata": {},
     "output_type": "execute_result"
    }
   ],
   "source": [
    "# One Hot Encoding features since we can look at them as categorical/nominal with no ordinal value\n",
    "merged_encoded = pd.get_dummies(merged, columns=[\"theme_id\", \"parent_id\", \"root_id\"], prefix=[\"id\", \"parent\", \"root\"])\n",
    "\n",
    "merged_encoded[\"set_qnt\"] = 1\n",
    "\n",
    "# Group by year and sum all other features\n",
    "merged_collapsed = merged_encoded.groupby([\"year\"]).sum()\n",
    "\n",
    "# Drop 2019 since we are only halfway and we are predicting number of parts for 2018 (past) \n",
    "merged_collapsed.drop(merged_collapsed.index[-1], inplace=True)\n",
    "\n",
    "merged_collapsed.reset_index(inplace=True)\n",
    "merged_collapsed.tail()"
   ]
  },
  {
   "cell_type": "markdown",
   "metadata": {},
   "source": [
    "## Splitting data into Train and Test sets"
   ]
  },
  {
   "cell_type": "code",
   "execution_count": 21,
   "metadata": {},
   "outputs": [],
   "source": [
    "test_year = merged_collapsed[merged_collapsed[\"year\"] == 2018]\n",
    "test_y = test_year[\"num_parts\"]\n",
    "test_X = test_year.drop(\"num_parts\", axis=1)\n",
    "\n",
    "# Drop 2018 from train set\n",
    "train_data = merged_collapsed.drop(merged_collapsed.index[-1])\n",
    "\n",
    "train_y = train_data[\"num_parts\"]\n",
    "train_X = train_data.drop(\"num_parts\", axis=1)"
   ]
  },
  {
   "cell_type": "markdown",
   "metadata": {},
   "source": [
    "## Auxiliary Methods"
   ]
  },
  {
   "cell_type": "code",
   "execution_count": 22,
   "metadata": {},
   "outputs": [],
   "source": [
    "# Fit to model and predict\n",
    "def fit_predict(model):\n",
    "    return round(model.fit(train_X, train_y).predict(test_X)[0])"
   ]
  },
  {
   "cell_type": "code",
   "execution_count": 23,
   "metadata": {},
   "outputs": [],
   "source": [
    "# Use adaptive boosting on model, fit training data and predict\n",
    "def adaboost(model):\n",
    "    return round(AdaBoostRegressor(model, n_estimators=100).fit(train_X, train_y).predict(test_X)[0])"
   ]
  },
  {
   "cell_type": "code",
   "execution_count": 24,
   "metadata": {},
   "outputs": [],
   "source": [
    "# Output predictions and difference to real values\n",
    "def output(pred):\n",
    "    y = test_y.values[0]\n",
    "    print(\"2018 num_parts: {}\\nPrediction for 2018 num_parts: {}\\nDistance to real value: {}\".format(y, pred, abs(y - pred)))                                                                                           "
   ]
  },
  {
   "cell_type": "markdown",
   "metadata": {},
   "source": [
    "## Base Models"
   ]
  },
  {
   "cell_type": "markdown",
   "metadata": {},
   "source": [
    "I will be comparing 3 different regression models: \n",
    "\n",
    "    1. Linear Regression (which is essentially Ridge Regression with alpha=0)\n",
    "    \n",
    "    2. Ridge Regression \n",
    "    \n",
    "    3. K-Nearest Neighbors Regression (5 neighbors)\n",
    "\n",
    "Linear Regression can is ordinary least squares linear regression while\n",
    "Ridge Regression is a least squares linear regression but with L2 regularization.\n",
    "    \n",
    "Linear Regression and K-Nearest Neighbors have similar results, while Ridge Regression presents the closest prediction.\n",
    "\n",
    "KNN has slightly better results when using 2 or 3 neighbors, however I chose 5 to avoid potential overfitting while \n",
    "preserving good results."
   ]
  },
  {
   "cell_type": "markdown",
   "metadata": {},
   "source": [
    "### Linear Regression"
   ]
  },
  {
   "cell_type": "code",
   "execution_count": 25,
   "metadata": {},
   "outputs": [
    {
     "name": "stdout",
     "output_type": "stream",
     "text": [
      "2018 num_parts: 168397\n",
      "Prediction for 2018 num_parts: 135982.0\n",
      "Distance to real value: 32415.0\n"
     ]
    }
   ],
   "source": [
    "linear_reg = fit_predict(LinearRegression())\n",
    "output(linear_reg)"
   ]
  },
  {
   "cell_type": "markdown",
   "metadata": {},
   "source": [
    "### Ridge Regression"
   ]
  },
  {
   "cell_type": "code",
   "execution_count": 26,
   "metadata": {},
   "outputs": [
    {
     "name": "stdout",
     "output_type": "stream",
     "text": [
      "2018 num_parts: 168397\n",
      "Prediction for 2018 num_parts: 148422.0\n",
      "Distance to real value: 19975.0\n"
     ]
    }
   ],
   "source": [
    "ridge = fit_predict(Ridge())\n",
    "output(ridge)"
   ]
  },
  {
   "cell_type": "markdown",
   "metadata": {},
   "source": [
    "### K-Nearest Neighbors"
   ]
  },
  {
   "cell_type": "code",
   "execution_count": 27,
   "metadata": {},
   "outputs": [
    {
     "name": "stdout",
     "output_type": "stream",
     "text": [
      "2018 num_parts: 168397\n",
      "Prediction for 2018 num_parts: 135746.0\n",
      "Distance to real value: 32651.0\n"
     ]
    }
   ],
   "source": [
    "knn = fit_predict(KNeighborsRegressor(n_neighbors=5))\n",
    "output(knn)"
   ]
  },
  {
   "cell_type": "markdown",
   "metadata": {},
   "source": [
    "## Adaptive Boosting"
   ]
  },
  {
   "cell_type": "markdown",
   "metadata": {},
   "source": [
    "Adaptive boosting is an ensemble method that has been showned to be able to improve performance of \"weak\" learners.\n",
    "\n",
    "It uses multiple estimators in a 'Out of many, one', meaning that even though the individual learners are weak, the combined\n",
    "result is strong.\n",
    "\n",
    "It is somewhat less susceptible to overfitting, which is nice.\n",
    "\n",
    "\n",
    "While all three regression models improve with technique, K-Nearest Neighbors has by far the best result."
   ]
  },
  {
   "cell_type": "markdown",
   "metadata": {},
   "source": [
    "### Linear Regression"
   ]
  },
  {
   "cell_type": "code",
   "execution_count": 28,
   "metadata": {},
   "outputs": [
    {
     "name": "stdout",
     "output_type": "stream",
     "text": [
      "2018 num_parts: 168397\n",
      "Prediction for 2018 num_parts: 151744.0\n",
      "Distance to real value: 16653.0\n"
     ]
    }
   ],
   "source": [
    "lr_boost = adaboost(LinearRegression())\n",
    "output(lr_boost)"
   ]
  },
  {
   "cell_type": "markdown",
   "metadata": {},
   "source": [
    "### Ridge Regression"
   ]
  },
  {
   "cell_type": "code",
   "execution_count": 29,
   "metadata": {},
   "outputs": [
    {
     "name": "stdout",
     "output_type": "stream",
     "text": [
      "2018 num_parts: 168397\n",
      "Prediction for 2018 num_parts: 151592.0\n",
      "Distance to real value: 16805.0\n"
     ]
    }
   ],
   "source": [
    "rd_boost = adaboost(Ridge())\n",
    "output(rd_boost)"
   ]
  },
  {
   "cell_type": "markdown",
   "metadata": {},
   "source": [
    "### K-Nearest Neighbors"
   ]
  },
  {
   "cell_type": "code",
   "execution_count": 30,
   "metadata": {},
   "outputs": [
    {
     "name": "stdout",
     "output_type": "stream",
     "text": [
      "2018 num_parts: 168397\n",
      "Prediction for 2018 num_parts: 167276.0\n",
      "Distance to real value: 1121.0\n"
     ]
    }
   ],
   "source": [
    "knn_boost = adaboost(KNeighborsRegressor(n_neighbors=5))\n",
    "output(knn_boost)"
   ]
  }
 ],
 "metadata": {
  "kernelspec": {
   "display_name": "Python 3",
   "language": "python",
   "name": "python3"
  },
  "language_info": {
   "codemirror_mode": {
    "name": "ipython",
    "version": 3
   },
   "file_extension": ".py",
   "mimetype": "text/x-python",
   "name": "python",
   "nbconvert_exporter": "python",
   "pygments_lexer": "ipython3",
   "version": "3.6.4"
  }
 },
 "nbformat": 4,
 "nbformat_minor": 2
}
